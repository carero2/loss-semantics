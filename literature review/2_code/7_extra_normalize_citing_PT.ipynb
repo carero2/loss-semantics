{
 "cells": [
  {
   "cell_type": "code",
   "execution_count": null,
   "metadata": {},
   "outputs": [],
   "source": [
    "import pandas as pd\n",
    "import re\n",
    "from huggingface_hub import InferenceClient\n",
    "import numpy as np\n",
    "import ast\n",
    "import time\n",
    "import threading\n",
    "from tqdm.notebook import tqdm\n",
    "import itertools"
   ]
  },
  {
   "cell_type": "code",
   "execution_count": null,
   "metadata": {},
   "outputs": [],
   "source": [
    "df_cited = pd.read_csv('../1_data/papers_citing_Kahneman.csv')\n",
    "df_cited.head()"
   ]
  }
 ],
 "metadata": {
  "kernelspec": {
   "display_name": "loss_semantics",
   "language": "python",
   "name": "python3"
  },
  "language_info": {
   "codemirror_mode": {
    "name": "ipython",
    "version": 3
   },
   "file_extension": ".py",
   "mimetype": "text/x-python",
   "name": "python",
   "nbconvert_exporter": "python",
   "pygments_lexer": "ipython3",
   "version": "3.12.3"
  }
 },
 "nbformat": 4,
 "nbformat_minor": 2
}
