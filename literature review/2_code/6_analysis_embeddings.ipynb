{
 "cells": [
  {
   "cell_type": "code",
   "execution_count": null,
   "metadata": {},
   "outputs": [],
   "source": [
    "import pandas as pd\n",
    "import numpy as np\n",
    "from scipy.spatial import KDTree\n"
   ]
  },
  {
   "cell_type": "code",
   "execution_count": null,
   "metadata": {},
   "outputs": [],
   "source": [
    "df_words = pd.read_csv('../../behavioral data/analysis/1_data/WordsAndClusters_PapersAndExp2.csv')\n",
    "df_words"
   ]
  },
  {
   "cell_type": "code",
   "execution_count": null,
   "metadata": {},
   "outputs": [],
   "source": [
    "import matplotlib.pyplot as plt\n",
    "\n",
    "plt.hist(df_words.loc[:, 'group_dim_1'], bins=50, edgecolor='black')\n",
    "plt.xlabel('Nearest-Neighbor Distance')\n",
    "plt.ylabel('Frequency')\n",
    "plt.title('Distribution of Nearest-Neighbor Distances')\n",
    "plt.show()"
   ]
  },
  {
   "cell_type": "code",
   "execution_count": null,
   "metadata": {},
   "outputs": [],
   "source": [
    "# Create array from group_dim_1 and group_dim_2\n",
    "associations_arr = np.array([df_words.loc[df_words.type == \"association\", 'group_dim_1'].values,\n",
    "                   df_words.loc[df_words.type == \"association\", 'group_dim_2'].values]).T\n",
    "\n",
    "situations_arr = np.array([df_words.loc[df_words.type == \"situation\", 'group_dim_1'].values,\n",
    "                   df_words.loc[df_words.type == \"situation\", 'group_dim_2'].values]).T\n",
    "\n",
    "exp_arr = np.array([df_words.loc[df_words.orig == \"Experiment\", 'group_dim_1'].values,\n",
    "                   df_words.loc[df_words.orig == \"Experiment\", 'group_dim_2'].values]).T\n",
    "\n",
    "literature_arr = np.array([df_words.loc[df_words.orig == \"Papers\", 'group_dim_1'].values,\n",
    "                   df_words.loc[df_words.orig == \"Papers\", 'group_dim_2'].values]).T\n",
    "\n",
    "complete_arr = np.array([df_words['group_dim_1'].values, df_words['group_dim_2'].values]).T\n",
    "\n",
    "tree = KDTree(complete_arr)\n",
    "\n",
    "# Find the nearest neighbor (excluding itself) for each point\n",
    "distances, _ = tree.query(complete_arr, k=2)  # k=2 to exclude self-match\n",
    "mean_radius = np.mean(distances[:, 1])  # Take mean of second column (actual NN)\n",
    "print(mean_radius)\n",
    "\n",
    "\n",
    "def get_percentage_overlap(arr1, arr2, mean_radius):\n",
    "    # Create KDTree for Dataset B\n",
    "    tree = KDTree(arr1)\n",
    "\n",
    "    # Define threshold distance for overlap\n",
    "    radius = mean_radius\n",
    "\n",
    "    # Count how many points in A have a close match in B\n",
    "    matches = [tree.query(point, distance_upper_bound=radius)[0] < radius for point in arr2]\n",
    "    overlapping_count = sum(matches)\n",
    "\n",
    "    # Compute overlap percentage\n",
    "    overlap_percentage = (overlapping_count / len(arr2)) * 100\n",
    "\n",
    "    return overlap_percentage\n",
    "\n",
    "# Percentage of points (from second array) that have a close match in the first array\n",
    "print(f\"Percentage of points from literature that have a close match in the exp: {get_percentage_overlap(exp_arr, literature_arr, mean_radius):.2f}%\")\n",
    "print(f\"Percentage of points from literature that have a close match in the associations: {get_percentage_overlap(associations_arr, literature_arr, mean_radius):.2f}%\")\n",
    "print(f\"Percentage of points from literature that have a close match in the situations: {get_percentage_overlap(situations_arr, literature_arr, mean_radius):.2f}%\")\n",
    "\n",
    "print(f\"Percentage of points from associations that have a close match in the literature: {get_percentage_overlap(literature_arr, associations_arr, mean_radius):.2f}%\")\n",
    "print(f\"Percentage of points from associations that have a close match in the situations: {get_percentage_overlap(situations_arr, associations_arr, mean_radius):.2f}%\")\n",
    "\n",
    "\n",
    "print(f\"Percentage of points from situations that have a close match in the literature: {get_percentage_overlap(associations_arr, situations_arr, mean_radius):.2f}%\")\n",
    "print(f\"Percentage of points from situations that have a close match in the associations: {get_percentage_overlap(associations_arr, situations_arr, mean_radius):.2f}%\")\n",
    "\n",
    "\n",
    "print(f\"Percentage of points from exp that have a close match in the literature: {get_percentage_overlap(literature_arr, exp_arr, mean_radius):.2f}%\")"
   ]
  },
  {
   "cell_type": "code",
   "execution_count": null,
   "metadata": {},
   "outputs": [],
   "source": [
    "# Define grid resolution\n",
    "grid_size = 0.25  # Adjust based on data scale\n",
    "\n",
    "\n",
    "\n",
    "def get_grid_overlap_jaccard(arr1, arr2, grid_size):\n",
    "    # Convert coordinates to grid indices\n",
    "    def to_grid(points, grid_size):\n",
    "        return set(tuple((points // grid_size).astype(int)) for points in points)\n",
    "\n",
    "    # Convert datasets to grid cells\n",
    "    arr1_cells = to_grid(arr1, grid_size)\n",
    "    arr2_cells = to_grid(arr2, grid_size)\n",
    "\n",
    "    # Compute overlap metrics\n",
    "    intersection = arr1_cells & arr2_cells  # Cells in both sets\n",
    "    union = arr1_cells | arr2_cells  # All unique occupied cells\n",
    "\n",
    "    # Compute Jaccard Index\n",
    "    jaccard_index = len(intersection) / len(union) if len(union) > 0 else 0.0\n",
    "\n",
    "    return jaccard_index\n",
    "\n",
    "# Grid-based first array in second\n",
    "print(f\"Percentage from literature to exp: {get_grid_overlap_jaccard(exp_arr, literature_arr, grid_size):.2f}%\")\n",
    "print(f\"Percentage from literature to associations: {get_grid_overlap_jaccard(associations_arr, literature_arr, grid_size):.2f}%\")\n",
    "print(f\"Percentage from literature to situations: {get_grid_overlap_jaccard(situations_arr, literature_arr, grid_size):.2f}%\")\n",
    "\n",
    "print(f\"Percentage from associations to situations: {get_grid_overlap_jaccard(situations_arr, associations_arr, grid_size):.2f}%\")"
   ]
  },
  {
   "cell_type": "code",
   "execution_count": null,
   "metadata": {},
   "outputs": [],
   "source": []
  }
 ],
 "metadata": {
  "kernelspec": {
   "display_name": "loss_semantics",
   "language": "python",
   "name": "python3"
  },
  "language_info": {
   "codemirror_mode": {
    "name": "ipython",
    "version": 3
   },
   "file_extension": ".py",
   "mimetype": "text/x-python",
   "name": "python",
   "nbconvert_exporter": "python",
   "pygments_lexer": "ipython3",
   "version": "3.12.3"
  }
 },
 "nbformat": 4,
 "nbformat_minor": 2
}
